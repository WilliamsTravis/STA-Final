{
 "cells": [
  {
   "cell_type": "markdown",
   "metadata": {},
   "source": [
    "# Rancher Based Modeling"
   ]
  },
  {
   "cell_type": "markdown",
   "metadata": {},
   "source": [
    "For the final project in Space-Time Analytics I will be adding to an Agent Based Model of rancher stocking response to drought. The program Agent Analyst is used as an interface between the ABM program Repast and ArcGIS. It allows Repast to access data in the GIS, create agents and environments out of that, apply action and scheduling code that alters the data, then overwrite the data in the GIS and update the display for a continuous presentation of the phenomena that the ABM is simulating. The phenomenon we are looking at is the adoption of drought insurance by ranchers in response to drought. This is a precipitation-index based insurance product made available through the USDA's Risk Management Agency last year as means of supporting feed costs and mitigating against financial loss from lost grassland forage potential and reductions in cattle stock. The decision to purchase insurance will be based partly on simulated behaviors (that can verified or updated with actual data in the future) and actual data derived from historical precipitation records and cattle sale data from the last 10 years. The decision to purchase the insurance is considered to be based on need, with the largest indicator of such, in the data available to us, at least, being cattle sales. It is expected that there is a relationship between rainfall and cattle sales, with rising sales in response to dry conditions. This relationship will be the foundation of a decision function that each simulated rancher will use to decide to adopt insurance, which, once purchased, will provide a dampening effect on the amount of cattle that must be sold. Other factors and the conceptual code are described below:"
   ]
  }
 ],
 "metadata": {
  "anaconda-cloud": {},
  "kernelspec": {
   "display_name": "Python [Root]",
   "language": "python",
   "name": "Python [Root]"
  },
  "language_info": {
   "codemirror_mode": {
    "name": "ipython",
    "version": 3
   },
   "file_extension": ".py",
   "mimetype": "text/x-python",
   "name": "python",
   "nbconvert_exporter": "python",
   "pygments_lexer": "ipython3",
   "version": "3.5.2"
  }
 },
 "nbformat": 4,
 "nbformat_minor": 0
}
